{
 "cells": [
  {
   "cell_type": "code",
   "execution_count": null,
   "metadata": {},
   "outputs": [],
   "source": [
    "from pathlib import Path\n",
    "from tqdm import tqdm\n",
    "from utils import read_images, save_min_projection_imgs, plot_plate, predict_masks, extract_stats, copy_csv_results, save_summary_stats\n",
    "import torch\n",
    "\n",
    "# Check CUDA availability\n",
    "print(\"CUDA Available:\", torch.cuda.is_available())"
   ]
  },
  {
   "cell_type": "code",
   "execution_count": null,
   "metadata": {},
   "outputs": [],
   "source": [
    "# Define your data directory (folder containing the subfolders storing your plate images)\n",
    "PARENT_FOLDER = Path(\"./data\")\n",
    "\n",
    "# Define the output resolution of your plate plots and username\n",
    "RESOLUTION = 300\n",
    "USERNAME = \"Andrew\"\n",
    "\n",
    "# Define your output directory (folder containing the results of the analysis)\n",
    "RESULTS_FOLDER = Path(\"./output\")\n",
    "\n",
    "# Merge results_folder and username into a Path\n",
    "results_directory = RESULTS_FOLDER / USERNAME"
   ]
  },
  {
   "cell_type": "code",
   "execution_count": null,
   "metadata": {},
   "outputs": [],
   "source": [
    "# Initialize an empty list to store subfolder names\n",
    "subfolder_list = []\n",
    "\n",
    "# Iterate over subdirectories in the parent folder\n",
    "for subfolder in PARENT_FOLDER.iterdir():\n",
    "    if subfolder.is_dir() and \"4X\" not in str(subfolder):\n",
    "        subfolder_list.append(subfolder.name)\n",
    "\n",
    "for folder in tqdm(subfolder_list):\n",
    "    # Build the path containing the input images\n",
    "    directory_path = PARENT_FOLDER.joinpath(folder)\n",
    "    \n",
    "    # The following function will read all the images contained within the directory_path above\n",
    "    # and store them grouped by well_id.\n",
    "    images_per_well = read_images(directory_path)\n",
    "    \n",
    "    # Specify the output directory path to store all resulting output data for this particular plate\n",
    "    directory = Path(f\"./output/{USERNAME}\")\n",
    "    output_directory = directory.joinpath(folder)\n",
    "    \n",
    "    # Specify the output directory for minimum intensity projections (MIN_projections)\n",
    "    min_output_directory = output_directory.joinpath(\"MIN_projections\")\n",
    "    \n",
    "    # Perform and save minimum intensity projections\n",
    "    save_min_projection_imgs(images_per_well, output_dir=min_output_directory)\n",
    "    \n",
    "    # Save min_proj plate view\n",
    "    plot_plate(resolution=RESOLUTION, output_path=f\"{output_directory}/{folder}_MIN_proj.tif\", img_folder_path=min_output_directory, show_fig=False)\n",
    "    \n",
    "    # Specify the output directory for YOLOv8 predictions (masks and bounding boxes)\n",
    "    predictions_output_directory = output_directory.joinpath(\"predictions\")\n",
    "    \n",
    "    # Predict masks and bounding boxes and store them under predictions_output_directory\n",
    "    predict_masks(input_folder=min_output_directory, output_dir=predictions_output_directory)\n",
    "    \n",
    "    # Save predictions plate view\n",
    "    plot_plate(resolution=RESOLUTION, output_path=f\"{output_directory}/{folder}_predictions.tif\", img_folder_path=predictions_output_directory, show_fig=False)\n",
    "    \n",
    "    # Extract statistics from YOLOv8 predictions\n",
    "    all_props_df = extract_stats(input_folder=min_output_directory)\n",
    "    \n",
    "    # Save resulting stats in a .csv file\n",
    "    all_props_df.to_csv(f\"{output_directory}/{folder}.csv\", index=False)\n",
    "    \n",
    "# Copies .csv files containing per organoid results into a per_organoid_stats folder within results_directory\n",
    "copy_csv_results(results_directory)\n",
    "\n",
    "# Copies .csv files containing per organoid results into a per_organoid_stats folder within results_directory\n",
    "save_summary_stats(results_directory)\n"
   ]
  }
 ],
 "metadata": {
  "kernelspec": {
   "display_name": "yolov8",
   "language": "python",
   "name": "python3"
  },
  "language_info": {
   "codemirror_mode": {
    "name": "ipython",
    "version": 3
   },
   "file_extension": ".py",
   "mimetype": "text/x-python",
   "name": "python",
   "nbconvert_exporter": "python",
   "pygments_lexer": "ipython3",
   "version": "3.9.18"
  }
 },
 "nbformat": 4,
 "nbformat_minor": 2
}
