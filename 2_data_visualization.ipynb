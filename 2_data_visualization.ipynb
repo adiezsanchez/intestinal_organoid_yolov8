{
 "cells": [
  {
   "cell_type": "code",
   "execution_count": 8,
   "metadata": {},
   "outputs": [],
   "source": [
    "from pathlib import Path\n",
    "import shutil\n",
    "import os"
   ]
  },
  {
   "cell_type": "code",
   "execution_count": 4,
   "metadata": {},
   "outputs": [],
   "source": [
    "# Define your output directory (folder containing the results of the analysis in 1_image_analysis)\n",
    "PARENT_FOLDER = Path(\"./output\")\n",
    "\n",
    "# Define your username (subfolder name under the output directory)\n",
    "USERNAME = \"Andrew\"\n",
    "\n",
    "# Merge parent_folder and username into a Path\n",
    "results_directory = PARENT_FOLDER / USERNAME"
   ]
  },
  {
   "cell_type": "code",
   "execution_count": 11,
   "metadata": {},
   "outputs": [],
   "source": [
    "def copy_csv_results(results_directory):\n",
    "    \"\"\"Copy all .csv files from each plate folder into a per_organoid_stats folder under results_directory\"\"\"\n",
    "\n",
    "    # Create an empty list to store the subdirectories within results_directory\n",
    "    subdirectories = []\n",
    "\n",
    "    # Iterate over subfolders in the results_directory and add them to subdirectories list\n",
    "    for subfolder in results_directory.iterdir():\n",
    "        if subfolder.is_dir():\n",
    "            subdirectories.append(subfolder.name)\n",
    "\n",
    "    # Create the destination folder to copy the .csv files contained in each subdir\n",
    "    try:\n",
    "        csv_results_path = os.path.join(results_directory, \"per_organoid_stats\")\n",
    "        os.makedirs(csv_results_path)\n",
    "    except FileExistsError:\n",
    "        print(f\"Directory already exists: {csv_results_path}\")\n",
    "\n",
    "    # Iterate over each subdirectory to scan and copy .csv files contained within\n",
    "    for subdir in subdirectories:\n",
    "        # Build the path to each of the subdirectories\n",
    "        subdirectory_path = Path(results_directory) / subdir\n",
    "\n",
    "        # Check if the subdirectory exists\n",
    "        if subdirectory_path.exists():\n",
    "            # Scan for .csv files in each subdirectory\n",
    "            for file_path in subdirectory_path.glob(\"*.csv\"):\n",
    "                # Copy the file to the destination subfolder\n",
    "                shutil.copy2(file_path, csv_results_path)"
   ]
  },
  {
   "cell_type": "code",
   "execution_count": 12,
   "metadata": {},
   "outputs": [],
   "source": [
    "# Copies .csv files containing per organoid results into a per_organoid_stats folder within results_directory\n",
    "copy_csv_results(results_directory)"
   ]
  }
 ],
 "metadata": {
  "kernelspec": {
   "display_name": "int_organoids",
   "language": "python",
   "name": "python3"
  },
  "language_info": {
   "codemirror_mode": {
    "name": "ipython",
    "version": 3
   },
   "file_extension": ".py",
   "mimetype": "text/x-python",
   "name": "python",
   "nbconvert_exporter": "python",
   "pygments_lexer": "ipython3",
   "version": "3.9.18"
  }
 },
 "nbformat": 4,
 "nbformat_minor": 2
}
