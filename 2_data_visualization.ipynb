{
 "cells": [
  {
   "cell_type": "code",
   "execution_count": 1,
   "metadata": {},
   "outputs": [],
   "source": [
    "from pathlib import Path\n",
    "import shutil"
   ]
  },
  {
   "cell_type": "code",
   "execution_count": 4,
   "metadata": {},
   "outputs": [],
   "source": [
    "# Define your output directory (folder containing the results of the analysis in 1_image_analysis)\n",
    "PARENT_FOLDER = Path(\"./output\")\n",
    "\n",
    "# Define your username (subfolder name under the output directory)\n",
    "USERNAME = \"Andrew\"\n",
    "\n",
    "# Merge parent_folder and username into a Path\n",
    "results_directory = PARENT_FOLDER / USERNAME\n",
    "\n",
    "# Create an empty list to store the subdirectories within ./output/USERNAME\n",
    "subdirectories = []\n",
    "\n",
    "# Iterate over subfolders in the results_directory and add them to subdirectories list\n",
    "for subfolder in results_directory.iterdir():\n",
    "    if subfolder.is_dir():\n",
    "        subdirectories.append(subfolder.name)"
   ]
  },
  {
   "cell_type": "code",
   "execution_count": 5,
   "metadata": {},
   "outputs": [
    {
     "data": {
      "text/plain": [
       "['P1.2023-09-29-11-56-39',\n",
       " 'P1.2023-10-02-08-13-59',\n",
       " 'P2.2023-09-29-12-23-28',\n",
       " 'P2.2023-10-02-08-55-55',\n",
       " 'P3.2023-09-29-12-51-41',\n",
       " 'P3.2023-10-02-09-16-14',\n",
       " 'test_data_2']"
      ]
     },
     "execution_count": 5,
     "metadata": {},
     "output_type": "execute_result"
    }
   ],
   "source": [
    "subdirectories"
   ]
  },
  {
   "cell_type": "code",
   "execution_count": 6,
   "metadata": {},
   "outputs": [
    {
     "name": "stdout",
     "output_type": "stream",
     "text": [
      "output\\Andrew\\P1.2023-09-29-11-56-39\n",
      "output\\Andrew\\P1.2023-10-02-08-13-59\n",
      "output\\Andrew\\P2.2023-09-29-12-23-28\n",
      "output\\Andrew\\P2.2023-10-02-08-55-55\n",
      "output\\Andrew\\P3.2023-09-29-12-51-41\n",
      "output\\Andrew\\P3.2023-10-02-09-16-14\n",
      "output\\Andrew\\test_data_2\n"
     ]
    }
   ],
   "source": [
    "for subdir in subdirectories:\n",
    "    # Build the path to each of the subdirectories\n",
    "    subdirectory_path = Path(results_directory) / subdir\n",
    "\n",
    "    # Check if the subdirectory exists\n",
    "    if subdirectory_path.exists():\n",
    "        print(subdirectory_path)"
   ]
  }
 ],
 "metadata": {
  "kernelspec": {
   "display_name": "int_organoids",
   "language": "python",
   "name": "python3"
  },
  "language_info": {
   "codemirror_mode": {
    "name": "ipython",
    "version": 3
   },
   "file_extension": ".py",
   "mimetype": "text/x-python",
   "name": "python",
   "nbconvert_exporter": "python",
   "pygments_lexer": "ipython3",
   "version": "3.9.18"
  }
 },
 "nbformat": 4,
 "nbformat_minor": 2
}
