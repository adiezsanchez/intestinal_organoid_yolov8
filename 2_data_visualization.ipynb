{
 "cells": [
  {
   "cell_type": "code",
   "execution_count": 1,
   "metadata": {},
   "outputs": [],
   "source": [
    "from utils import copy_csv_results, extract_summary_stats\n",
    "from pathlib import Path\n",
    "import os\n",
    "import pandas as pd"
   ]
  },
  {
   "cell_type": "code",
   "execution_count": 2,
   "metadata": {},
   "outputs": [],
   "source": [
    "# Define your output directory (folder containing the results of the analysis in 1_image_analysis)\n",
    "PARENT_FOLDER = Path(\"./output\")\n",
    "\n",
    "# Define your username (subfolder name under the output directory)\n",
    "USERNAME = \"Andrew\"\n",
    "\n",
    "# Merge parent_folder and username into a Path\n",
    "results_directory = PARENT_FOLDER / USERNAME"
   ]
  },
  {
   "cell_type": "code",
   "execution_count": 3,
   "metadata": {},
   "outputs": [],
   "source": [
    "# Copies .csv files containing per organoid results into a per_organoid_stats folder within results_directory\n",
    "copy_csv_results(results_directory)"
   ]
  },
  {
   "cell_type": "code",
   "execution_count": 4,
   "metadata": {},
   "outputs": [],
   "source": [
    "# Define the directory containing the copied per_organoid_stats\n",
    "csv_results_path = Path(os.path.join(results_directory, \"per_organoid_stats\"))\n",
    "\n",
    "# Initialize an empty DataFrame to collect all summary dataframes\n",
    "final_df = pd.DataFrame()\n",
    "\n",
    "# Scan for .csv files in each subdirectory\n",
    "for csv_path in csv_results_path.glob(\"*.csv\"):\n",
    "    summary_df = extract_summary_stats(csv_path)\n",
    "    # Append the summary_df to the final_df\n",
    "    final_df = pd.concat([final_df, summary_df], ignore_index=True)\n",
    "    \n",
    "# Create the summary_stats directory if it doesn't exist\n",
    "summary_stats_directory = Path(results_directory, \"summary_stats\")\n",
    "summary_stats_directory.mkdir(parents=True, exist_ok=True)\n",
    "\n",
    "# Save the final_df as a .csv file under the summary_stats directory\n",
    "final_csv_path = summary_stats_directory / \"summary_stats.csv\"\n",
    "final_df.to_csv(final_csv_path, index=False)"
   ]
  }
 ],
 "metadata": {
  "kernelspec": {
   "display_name": "int_organoids",
   "language": "python",
   "name": "python3"
  },
  "language_info": {
   "codemirror_mode": {
    "name": "ipython",
    "version": 3
   },
   "file_extension": ".py",
   "mimetype": "text/x-python",
   "name": "python",
   "nbconvert_exporter": "python",
   "pygments_lexer": "ipython3",
   "version": "3.9.18"
  }
 },
 "nbformat": 4,
 "nbformat_minor": 2
}
